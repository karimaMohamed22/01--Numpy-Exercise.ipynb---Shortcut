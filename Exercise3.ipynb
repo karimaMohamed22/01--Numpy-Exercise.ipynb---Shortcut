{
 "cells": [
  {
   "cell_type": "markdown",
   "id": "ba4d8c70-b602-45f4-983d-9761ec42e25e",
   "metadata": {},
   "source": [
    "## Exercise No.3"
   ]
  },
  {
   "cell_type": "markdown",
   "id": "2064f43f-0df3-44a8-a16e-fac5b5515ba9",
   "metadata": {},
   "source": [
    "**1-write program for circle class. This class has the following:**\n",
    "* Attribute: its name is pi with value 3.14\n",
    "* During the object create the raduis attribute is asigned by the raduis of circle\n",
    "* Has two methods to calculate the Area and Circumference of circle"
   ]
  },
  {
   "cell_type": "code",
   "execution_count": 28,
   "id": "4e77299b-17ce-4991-bec3-0c46052fbd25",
   "metadata": {},
   "outputs": [],
   "source": [
    "class circle:\n",
    "    pi = 3.14\n",
    "def _init_(self,radius):\n",
    "   def area(self):\n",
    "    return circle.pi * self.radius ** 2\n",
    "def circumference(self):\n",
    "    return 2 * circle.pi * self.radius"
   ]
  },
  {
   "cell_type": "markdown",
   "id": "fd47b546-5a34-4693-a188-e4f5fb43ef55",
   "metadata": {},
   "source": [
    "**2. Write a program for a Rectangle class.**\n",
    "\n",
    "Attributes: length and width (set through constructor)\n",
    "\n",
    "Methods:\n",
    "\n",
    "area() – returns the area\n",
    "\n",
    "perimeter() – returns the perimeter"
   ]
  },
  {
   "cell_type": "code",
   "execution_count": 30,
   "id": "958489c9-7212-40d6-b5b1-d588f07699bd",
   "metadata": {},
   "outputs": [],
   "source": [
    "class Rectangle:\n",
    "    def _init_(self, length, width):\n",
    "        self.length = length\n",
    "        self.width = width\n",
    "\n",
    "    def area(self):\n",
    "        return self.length * self.width\n",
    "\n",
    "    def perimeter(self):\n",
    "        return 2 * (self.length + self.width)"
   ]
  },
  {
   "cell_type": "markdown",
   "id": "f7831422-c199-4cfd-88a6-b989997b4911",
   "metadata": {},
   "source": [
    "**3-Write a program for an Employee class using class method.**\n",
    "Attributes: name and salary\n",
    "\n",
    "Class attribute: company_name\n",
    "\n",
    "Use a class method to change the company_name for all employees"
   ]
  },
  {
   "cell_type": "code",
   "execution_count": 31,
   "id": "0348539e-aad8-4f2b-ba1b-037948974fb6",
   "metadata": {},
   "outputs": [],
   "source": [
    "class Employee:\n",
    "    company_name = \"ABC Company\"\n",
    "    def _init_(self, name, salary):\n",
    "        self.name = name\n",
    "        self.salary = salary\n",
    "    @classmethod\n",
    "    def change_company(cls, new_name):\n",
    "        cls.company_name = new_na"
   ]
  },
  {
   "cell_type": "markdown",
   "id": "354fa199-a3c8-4ea6-ae2e-79ed45c7f0bc",
   "metadata": {},
   "source": [
    "**4- Create a Shape class and two child classes Square and Circle.**\n",
    "\n",
    "Use polymorphism to define a method area()\n",
    "\n",
    "Use a loop to calculate area for both shapes using a common function"
   ]
  },
  {
   "cell_type": "code",
   "execution_count": 32,
   "id": "1fcfef44-468e-4f8b-a996-cb64e63409c6",
   "metadata": {},
   "outputs": [],
   "source": [
    "class Shape:\n",
    "    def rea(self):\n",
    "        pass\n",
    "class Square(Shape):\n",
    "    def _init_(self, side):\n",
    "        self.side = side\n",
    "\n",
    "    def area(self):\n",
    "        return self.side ** 2\n",
    "\n",
    "class Circle(Shape):\n",
    "    def _init_(self, radius):\n",
    "        self.radius = radius\n",
    "\n",
    "    def area(self):\n",
    "        return 3.14 * self.radius ** 2"
   ]
  },
  {
   "cell_type": "markdown",
   "id": "ff656a62-e1e0-4855-8aab-65c6af6f60c5",
   "metadata": {},
   "source": [
    "**5-Create a 1D NumPy array of numbers from 0 to 9**"
   ]
  },
  {
   "cell_type": "code",
   "execution_count": 40,
   "id": "59894afe-0f69-41e0-8b2e-b0936df4c8eb",
   "metadata": {},
   "outputs": [
    {
     "data": {
      "text/plain": [
       "array([0, 1, 2, 3, 4, 5, 6, 7, 8, 9])"
      ]
     },
     "execution_count": 40,
     "metadata": {},
     "output_type": "execute_result"
    }
   ],
   "source": [
    "import numpy as np\n",
    "arr1 =np.arange(10)\n",
    "arr1"
   ]
  },
  {
   "cell_type": "markdown",
   "id": "e50cfc0f-df3a-41a0-ba8c-447917bea0f1",
   "metadata": {},
   "source": [
    "**6-Create a 4x4 NumPy array of all True values**"
   ]
  },
  {
   "cell_type": "code",
   "execution_count": 41,
   "id": "861a3c85-1f40-475e-a5aa-5cdf8c44ef2f",
   "metadata": {},
   "outputs": [
    {
     "data": {
      "text/plain": [
       "(array([4, 4, 4, 4]), True)"
      ]
     },
     "execution_count": 41,
     "metadata": {},
     "output_type": "execute_result"
    }
   ],
   "source": [
    "arr2 = np.full (4,4) , True\n",
    "arr2"
   ]
  },
  {
   "cell_type": "markdown",
   "id": "561875e4-753d-4cc9-9059-4ccacc377500",
   "metadata": {},
   "source": [
    "**7-Create an array of 10 random floats between 0 and 1**"
   ]
  },
  {
   "cell_type": "code",
   "execution_count": 42,
   "id": "63838b1c-eabc-4c31-b0e7-b144c48757df",
   "metadata": {},
   "outputs": [
    {
     "data": {
      "text/plain": [
       "array([0.22406829, 0.90278088, 0.4937993 , 0.09256484, 0.11038768,\n",
       "       0.25372202, 0.23574158, 0.96162985, 0.3164695 , 0.44035803])"
      ]
     },
     "execution_count": 42,
     "metadata": {},
     "output_type": "execute_result"
    }
   ],
   "source": [
    "arr3 = np.random.rand(10)\n",
    "arr3"
   ]
  },
  {
   "cell_type": "markdown",
   "id": "65aeb073-35e1-42b6-afaa-41cb2365fb61",
   "metadata": {},
   "source": [
    "**8-Create a NumPy array of even numbers from 2 to 20**"
   ]
  },
  {
   "cell_type": "code",
   "execution_count": 43,
   "id": "8b93856c-1e6e-4695-bd4f-cf5f30c413c0",
   "metadata": {},
   "outputs": [
    {
     "data": {
      "text/plain": [
       "array([ 2,  4,  6,  8, 10, 12, 14, 16, 18, 20])"
      ]
     },
     "execution_count": 43,
     "metadata": {},
     "output_type": "execute_result"
    }
   ],
   "source": [
    "arr4 = np.arange(2 , 21 , 2)\n",
    "arr4"
   ]
  },
  {
   "cell_type": "markdown",
   "id": "3d9bd0c4-c80e-41f4-a553-8a2ba05ac7fc",
   "metadata": {},
   "source": [
    "**9-Get the maximum, minimum, and mean of an random array**"
   ]
  },
  {
   "cell_type": "code",
   "execution_count": 44,
   "id": "5384e4b5-9d03-48e5-9854-a282e4a354bd",
   "metadata": {},
   "outputs": [
    {
     "data": {
      "text/plain": [
       "array([[1, 2],\n",
       "       [3, 4]])"
      ]
     },
     "execution_count": 44,
     "metadata": {},
     "output_type": "execute_result"
    }
   ],
   "source": [
    "arr5 = np.array([[1 , 2], [3 , 4]])\n",
    "min_val = np.min(arr5)\n",
    "mean_val = np.mean(arr5)\n",
    "arr5"
   ]
  },
  {
   "cell_type": "markdown",
   "id": "965439c7-cd2d-491f-820e-e154857ec595",
   "metadata": {},
   "source": [
    "**10-Flatten a 2D array to 1D**"
   ]
  },
  {
   "cell_type": "code",
   "execution_count": 45,
   "id": "9152d3b0-a1b3-4086-9028-bd65fec715e9",
   "metadata": {},
   "outputs": [
    {
     "data": {
      "text/plain": [
       "array([[1, 2],\n",
       "       [3, 4]])"
      ]
     },
     "execution_count": 45,
     "metadata": {},
     "output_type": "execute_result"
    }
   ],
   "source": [
    "arr2d = np.array([[1, 2], [3, 4]])\n",
    "flat_arr = arr2d.flatten()\n",
    "arr2d"
   ]
  },
  {
   "cell_type": "code",
   "execution_count": null,
   "id": "74a1a55c-4e03-4e26-be74-6630d818a23f",
   "metadata": {},
   "outputs": [],
   "source": []
  }
 ],
 "metadata": {
  "kernelspec": {
   "display_name": "Python 3 (ipykernel)",
   "language": "python",
   "name": "python3"
  },
  "language_info": {
   "codemirror_mode": {
    "name": "ipython",
    "version": 3
   },
   "file_extension": ".py",
   "mimetype": "text/x-python",
   "name": "python",
   "nbconvert_exporter": "python",
   "pygments_lexer": "ipython3",
   "version": "3.12.7"
  }
 },
 "nbformat": 4,
 "nbformat_minor": 5
}
